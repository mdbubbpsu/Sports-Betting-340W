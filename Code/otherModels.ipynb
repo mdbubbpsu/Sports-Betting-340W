{
 "cells": [
  {
   "cell_type": "code",
   "execution_count": 1,
   "metadata": {},
   "outputs": [],
   "source": [
    "import numpy as np\n",
    "import pandas as pd\n",
    "import math\n",
    "import matplotlib.pyplot as plt\n",
    "from sklearn.ensemble import RandomForestRegressor\n",
    "from sklearn.model_selection import train_test_split\n",
    "from sklearn.metrics import mean_squared_error \n",
    "from sklearn.linear_model import LinearRegression\n",
    "from sklearn.metrics import mean_squared_error\n",
    "from sklearn.linear_model import SGDRegressor"
   ]
  },
  {
   "cell_type": "code",
   "execution_count": 2,
   "metadata": {},
   "outputs": [],
   "source": [
    "df = pd.read_csv(r'C:\\Users\\jorda\\Documents\\School\\Senior\\Spring 2021\\DS340W\\Project\\Sports-Betting-340W-main\\Code\\prepped.csv')"
   ]
  },
  {
   "cell_type": "code",
   "execution_count": 3,
   "metadata": {},
   "outputs": [
    {
     "data": {
      "text/html": [
       "<div>\n",
       "<style scoped>\n",
       "    .dataframe tbody tr th:only-of-type {\n",
       "        vertical-align: middle;\n",
       "    }\n",
       "\n",
       "    .dataframe tbody tr th {\n",
       "        vertical-align: top;\n",
       "    }\n",
       "\n",
       "    .dataframe thead th {\n",
       "        text-align: right;\n",
       "    }\n",
       "</style>\n",
       "<table border=\"1\" class=\"dataframe\">\n",
       "  <thead>\n",
       "    <tr style=\"text-align: right;\">\n",
       "      <th></th>\n",
       "      <th>0</th>\n",
       "      <th>1</th>\n",
       "      <th>2</th>\n",
       "      <th>3</th>\n",
       "      <th>4</th>\n",
       "      <th>5</th>\n",
       "      <th>6</th>\n",
       "      <th>7</th>\n",
       "      <th>8</th>\n",
       "      <th>9</th>\n",
       "      <th>...</th>\n",
       "      <th>23</th>\n",
       "      <th>24</th>\n",
       "      <th>25</th>\n",
       "      <th>26</th>\n",
       "      <th>27</th>\n",
       "      <th>28</th>\n",
       "      <th>29</th>\n",
       "      <th>30</th>\n",
       "      <th>homeTeamPrice</th>\n",
       "      <th>awayTeamPrice</th>\n",
       "    </tr>\n",
       "  </thead>\n",
       "  <tbody>\n",
       "    <tr>\n",
       "      <th>0</th>\n",
       "      <td>0.375354</td>\n",
       "      <td>0.454789</td>\n",
       "      <td>0.785010</td>\n",
       "      <td>0.439960</td>\n",
       "      <td>0.612522</td>\n",
       "      <td>0.278799</td>\n",
       "      <td>0.467391</td>\n",
       "      <td>0.246144</td>\n",
       "      <td>0.617517</td>\n",
       "      <td>0.628440</td>\n",
       "      <td>...</td>\n",
       "      <td>0.0</td>\n",
       "      <td>0.0</td>\n",
       "      <td>0.0</td>\n",
       "      <td>1.0</td>\n",
       "      <td>0.0</td>\n",
       "      <td>0.0</td>\n",
       "      <td>0.0</td>\n",
       "      <td>0.0</td>\n",
       "      <td>150.0</td>\n",
       "      <td>-166.0</td>\n",
       "    </tr>\n",
       "    <tr>\n",
       "      <th>1</th>\n",
       "      <td>0.375354</td>\n",
       "      <td>0.454789</td>\n",
       "      <td>0.785010</td>\n",
       "      <td>0.439960</td>\n",
       "      <td>0.612522</td>\n",
       "      <td>0.278799</td>\n",
       "      <td>0.467391</td>\n",
       "      <td>0.246144</td>\n",
       "      <td>0.617517</td>\n",
       "      <td>0.628440</td>\n",
       "      <td>...</td>\n",
       "      <td>0.0</td>\n",
       "      <td>0.0</td>\n",
       "      <td>0.0</td>\n",
       "      <td>0.0</td>\n",
       "      <td>0.0</td>\n",
       "      <td>0.0</td>\n",
       "      <td>0.0</td>\n",
       "      <td>0.0</td>\n",
       "      <td>155.0</td>\n",
       "      <td>-180.0</td>\n",
       "    </tr>\n",
       "    <tr>\n",
       "      <th>2</th>\n",
       "      <td>0.375354</td>\n",
       "      <td>0.454789</td>\n",
       "      <td>0.785010</td>\n",
       "      <td>0.439960</td>\n",
       "      <td>0.612522</td>\n",
       "      <td>0.278799</td>\n",
       "      <td>0.467391</td>\n",
       "      <td>0.246144</td>\n",
       "      <td>0.617517</td>\n",
       "      <td>0.628440</td>\n",
       "      <td>...</td>\n",
       "      <td>0.0</td>\n",
       "      <td>0.0</td>\n",
       "      <td>0.0</td>\n",
       "      <td>0.0</td>\n",
       "      <td>1.0</td>\n",
       "      <td>0.0</td>\n",
       "      <td>0.0</td>\n",
       "      <td>0.0</td>\n",
       "      <td>147.0</td>\n",
       "      <td>-167.0</td>\n",
       "    </tr>\n",
       "    <tr>\n",
       "      <th>3</th>\n",
       "      <td>0.625924</td>\n",
       "      <td>0.556777</td>\n",
       "      <td>0.631434</td>\n",
       "      <td>0.273732</td>\n",
       "      <td>0.367364</td>\n",
       "      <td>0.344180</td>\n",
       "      <td>0.308681</td>\n",
       "      <td>0.260137</td>\n",
       "      <td>0.681367</td>\n",
       "      <td>0.796994</td>\n",
       "      <td>...</td>\n",
       "      <td>0.0</td>\n",
       "      <td>0.0</td>\n",
       "      <td>0.0</td>\n",
       "      <td>0.0</td>\n",
       "      <td>1.0</td>\n",
       "      <td>0.0</td>\n",
       "      <td>0.0</td>\n",
       "      <td>0.0</td>\n",
       "      <td>155.0</td>\n",
       "      <td>-180.0</td>\n",
       "    </tr>\n",
       "    <tr>\n",
       "      <th>4</th>\n",
       "      <td>0.625924</td>\n",
       "      <td>0.556777</td>\n",
       "      <td>0.631434</td>\n",
       "      <td>0.273732</td>\n",
       "      <td>0.367364</td>\n",
       "      <td>0.344180</td>\n",
       "      <td>0.308681</td>\n",
       "      <td>0.260137</td>\n",
       "      <td>0.681367</td>\n",
       "      <td>0.796994</td>\n",
       "      <td>...</td>\n",
       "      <td>0.0</td>\n",
       "      <td>0.0</td>\n",
       "      <td>0.0</td>\n",
       "      <td>1.0</td>\n",
       "      <td>0.0</td>\n",
       "      <td>0.0</td>\n",
       "      <td>0.0</td>\n",
       "      <td>0.0</td>\n",
       "      <td>147.0</td>\n",
       "      <td>-167.0</td>\n",
       "    </tr>\n",
       "  </tbody>\n",
       "</table>\n",
       "<p>5 rows × 33 columns</p>\n",
       "</div>"
      ],
      "text/plain": [
       "          0         1         2         3         4         5         6  \\\n",
       "0  0.375354  0.454789  0.785010  0.439960  0.612522  0.278799  0.467391   \n",
       "1  0.375354  0.454789  0.785010  0.439960  0.612522  0.278799  0.467391   \n",
       "2  0.375354  0.454789  0.785010  0.439960  0.612522  0.278799  0.467391   \n",
       "3  0.625924  0.556777  0.631434  0.273732  0.367364  0.344180  0.308681   \n",
       "4  0.625924  0.556777  0.631434  0.273732  0.367364  0.344180  0.308681   \n",
       "\n",
       "          7         8         9  ...   23   24   25   26   27   28   29   30  \\\n",
       "0  0.246144  0.617517  0.628440  ...  0.0  0.0  0.0  1.0  0.0  0.0  0.0  0.0   \n",
       "1  0.246144  0.617517  0.628440  ...  0.0  0.0  0.0  0.0  0.0  0.0  0.0  0.0   \n",
       "2  0.246144  0.617517  0.628440  ...  0.0  0.0  0.0  0.0  1.0  0.0  0.0  0.0   \n",
       "3  0.260137  0.681367  0.796994  ...  0.0  0.0  0.0  0.0  1.0  0.0  0.0  0.0   \n",
       "4  0.260137  0.681367  0.796994  ...  0.0  0.0  0.0  1.0  0.0  0.0  0.0  0.0   \n",
       "\n",
       "   homeTeamPrice  awayTeamPrice  \n",
       "0          150.0         -166.0  \n",
       "1          155.0         -180.0  \n",
       "2          147.0         -167.0  \n",
       "3          155.0         -180.0  \n",
       "4          147.0         -167.0  \n",
       "\n",
       "[5 rows x 33 columns]"
      ]
     },
     "execution_count": 3,
     "metadata": {},
     "output_type": "execute_result"
    }
   ],
   "source": [
    "df.head()"
   ]
  },
  {
   "cell_type": "code",
   "execution_count": 4,
   "metadata": {},
   "outputs": [],
   "source": [
    "X = df.iloc[:, : 31]\n",
    "y = df[['homeTeamPrice','awayTeamPrice']]"
   ]
  },
  {
   "cell_type": "code",
   "execution_count": 5,
   "metadata": {},
   "outputs": [],
   "source": [
    "X_train, X_test, y_train, y_test = train_test_split(\n",
    "    X, y, train_size=0.3, random_state=4)"
   ]
  },
  {
   "cell_type": "markdown",
   "metadata": {},
   "source": [
    "### Linear Regression"
   ]
  },
  {
   "cell_type": "code",
   "execution_count": 24,
   "metadata": {},
   "outputs": [
    {
     "data": {
      "text/plain": [
       "LinearRegression(copy_X=True, fit_intercept=True, n_jobs=None, normalize=False)"
      ]
     },
     "execution_count": 24,
     "metadata": {},
     "output_type": "execute_result"
    }
   ],
   "source": [
    "linReg = LinearRegression()\n",
    "linReg.fit(X_train, y_train)"
   ]
  },
  {
   "cell_type": "code",
   "execution_count": 25,
   "metadata": {},
   "outputs": [
    {
     "data": {
      "text/plain": [
       "array([[-55., -14.],\n",
       "       [-69.,  -3.],\n",
       "       [-89.,  22.],\n",
       "       ...,\n",
       "       [ -9., -61.],\n",
       "       [-60.,  -7.],\n",
       "       [-51., -15.]])"
      ]
     },
     "execution_count": 25,
     "metadata": {},
     "output_type": "execute_result"
    }
   ],
   "source": [
    "y_pred = linReg.predict(X_test)\n",
    "y_pred"
   ]
  },
  {
   "cell_type": "code",
   "execution_count": 27,
   "metadata": {},
   "outputs": [],
   "source": [
    "y_multirf = pd.DataFrame(y_pred, columns = ['homeTeamPrice','awayTeamPrice'])"
   ]
  },
  {
   "cell_type": "code",
   "execution_count": 9,
   "metadata": {},
   "outputs": [
    {
     "data": {
      "text/plain": [
       "370.9161415583677"
      ]
     },
     "execution_count": 9,
     "metadata": {},
     "output_type": "execute_result"
    }
   ],
   "source": [
    "homeRMSE = math.sqrt(mean_squared_error(y_multirf['homeTeamPrice'], y_test['homeTeamPrice']))\n",
    "homeRMSE"
   ]
  },
  {
   "cell_type": "code",
   "execution_count": 10,
   "metadata": {
    "scrolled": true
   },
   "outputs": [
    {
     "data": {
      "text/plain": [
       "360.55017132338884"
      ]
     },
     "execution_count": 10,
     "metadata": {},
     "output_type": "execute_result"
    }
   ],
   "source": [
    "awayRMSE = math.sqrt(mean_squared_error(y_multirf['awayTeamPrice'], y_test['awayTeamPrice']))\n",
    "awayRMSE"
   ]
  },
  {
   "cell_type": "code",
   "execution_count": 14,
   "metadata": {},
   "outputs": [
    {
     "data": {
      "text/plain": [
       "pandas.core.series.Series"
      ]
     },
     "execution_count": 14,
     "metadata": {},
     "output_type": "execute_result"
    }
   ],
   "source": [
    "type(y_multirf['homeTeamPrice'])"
   ]
  },
  {
   "cell_type": "code",
   "execution_count": 28,
   "metadata": {},
   "outputs": [
    {
     "data": {
      "text/plain": [
       "<matplotlib.collections.PathCollection at 0x1be9fc31cc0>"
      ]
     },
     "execution_count": 28,
     "metadata": {},
     "output_type": "execute_result"
    },
    {
     "data": {
      "image/png": "[encoded data removed]",
      "text/plain": [
       "<Figure size 432x288 with 1 Axes>"
      ]
     },
     "metadata": {
      "needs_background": "light"
     },
     "output_type": "display_data"
    }
   ],
   "source": [
    "plt.scatter(y_test['homeTeamPrice'], y_test['awayTeamPrice'])"
   ]
  },
  {
   "cell_type": "code",
   "execution_count": 30,
   "metadata": {},
   "outputs": [
    {
     "data": {
      "image/png": "[encoded data removed]",
      "text/plain": [
       "<Figure size 432x288 with 1 Axes>"
      ]
     },
     "metadata": {
      "needs_background": "light"
     },
     "output_type": "display_data"
    }
   ],
   "source": [
    "plt.scatter(y_multirf['homeTeamPrice'], y_multirf['awayTeamPrice'])\n",
    "plt.title(\"Linear Regression Predictions\")\n",
    "plt.xlabel(\"Home Team Price\")\n",
    "plt.ylabel(\"Away Team Price\")\n",
    "plt.show()"
   ]
  },
  {
   "cell_type": "code",
   "execution_count": null,
   "metadata": {},
   "outputs": [],
   "source": [
    "plt.scatter(y_multirf['homeTeamPrice'], y_multirf['awayTeamPrice'],color='red')\n",
    "plt.scatter(y_test['homeTeamPrice'], y_test['awayTeamPrice'],color='blue')\n",
    "plt.show()"
   ]
  },
  {
   "cell_type": "markdown",
   "metadata": {},
   "source": [
    "### RandomForestRegressor"
   ]
  },
  {
   "cell_type": "code",
   "execution_count": null,
   "metadata": {},
   "outputs": [],
   "source": [
    "forest = RandomForestRegressor(n_estimators = 100, criterion = 'mae')\n",
    "forest.fit(X_train, y_train)"
   ]
  },
  {
   "cell_type": "code",
   "execution_count": 24,
   "metadata": {},
   "outputs": [
    {
     "data": {
      "text/plain": [
       "array([[ -70.809,  -13.843],\n",
       "       [ -70.818,   -2.988],\n",
       "       [ -28.498,  -74.426],\n",
       "       ...,\n",
       "       [-100.051,   13.623],\n",
       "       [ -59.237,  -27.172],\n",
       "       [-396.929,  255.623]])"
      ]
     },
     "execution_count": 24,
     "metadata": {},
     "output_type": "execute_result"
    }
   ],
   "source": [
    "y_pred = forest.predict(X_test)\n",
    "y_pred"
   ]
  },
  {
   "cell_type": "code",
   "execution_count": 25,
   "metadata": {},
   "outputs": [],
   "source": [
    "y_multirf = pd.DataFrame(y_pred, columns = ['homeTeamPrice','awayTeamPrice'])"
   ]
  },
  {
   "cell_type": "code",
   "execution_count": 26,
   "metadata": {},
   "outputs": [
    {
     "data": {
      "text/plain": [
       "355.2201851085292"
      ]
     },
     "execution_count": 26,
     "metadata": {},
     "output_type": "execute_result"
    }
   ],
   "source": [
    "homeRMSE = math.sqrt(mean_squared_error(y_multirf['homeTeamPrice'], y_test['homeTeamPrice']))\n",
    "homeRMSE"
   ]
  },
  {
   "cell_type": "code",
   "execution_count": 27,
   "metadata": {},
   "outputs": [
    {
     "data": {
      "text/plain": [
       "345.90155228106715"
      ]
     },
     "execution_count": 27,
     "metadata": {},
     "output_type": "execute_result"
    }
   ],
   "source": [
    "awayRMSE = math.sqrt(mean_squared_error(y_multirf['awayTeamPrice'], y_test['awayTeamPrice']))\n",
    "awayRMSE"
   ]
  },
  {
   "cell_type": "code",
   "execution_count": null,
   "metadata": {},
   "outputs": [],
   "source": [
    "plt.scatter(y_test['homeTeamPrice'], y_test['awayTeamPrice'])"
   ]
  },
  {
   "cell_type": "code",
   "execution_count": null,
   "metadata": {},
   "outputs": [],
   "source": [
    "plt.scatter(y_multirf['homeTeamPrice'], y_multirf['awayTeamPrice'])"
   ]
  },
  {
   "cell_type": "markdown",
   "metadata": {},
   "source": [
    "### SGDRegressor"
   ]
  },
  {
   "cell_type": "code",
   "execution_count": 6,
   "metadata": {},
   "outputs": [],
   "source": [
    "sgd = SGDRegressor()\n",
    "sgdHome = sgd.fit(X_train, y_train['homeTeamPrice'])\n",
    "sgdAway = sgd.fit(X_train, y_train['awayTeamPrice'])"
   ]
  },
  {
   "cell_type": "code",
   "execution_count": 7,
   "metadata": {},
   "outputs": [],
   "source": [
    "y_predHome = sgdHome.predict(X_test)\n",
    "y_predAway = sgdAway.predict(X_test)"
   ]
  },
  {
   "cell_type": "code",
   "execution_count": 8,
   "metadata": {},
   "outputs": [
    {
     "data": {
      "text/plain": [
       "372.3537652675711"
      ]
     },
     "execution_count": 8,
     "metadata": {},
     "output_type": "execute_result"
    }
   ],
   "source": [
    "homeRMSE = math.sqrt(mean_squared_error(y_predHome, y_test['homeTeamPrice']))\n",
    "homeRMSE"
   ]
  },
  {
   "cell_type": "code",
   "execution_count": 9,
   "metadata": {},
   "outputs": [
    {
     "data": {
      "text/plain": [
       "360.38274715023744"
      ]
     },
     "execution_count": 9,
     "metadata": {},
     "output_type": "execute_result"
    }
   ],
   "source": [
    "awayRMSE = math.sqrt(mean_squared_error(y_predAway, y_test['awayTeamPrice']))\n",
    "awayRMSE"
   ]
  },
  {
   "cell_type": "code",
   "execution_count": 12,
   "metadata": {},
   "outputs": [],
   "source": [
    "y_predHome = sgdHome.predict(X_test)\n",
    "y_predAway = sgdAway.predict(X_test)"
   ]
  },
  {
   "cell_type": "code",
   "execution_count": 21,
   "metadata": {},
   "outputs": [
    {
     "data": {
      "text/plain": [
       "<matplotlib.collections.PathCollection at 0x1be9fb642b0>"
      ]
     },
     "execution_count": 21,
     "metadata": {},
     "output_type": "execute_result"
    },
    {
     "data": {
      "image/png": "[encoded data removed]",
      "text/plain": [
       "<Figure size 432x288 with 1 Axes>"
      ]
     },
     "metadata": {
      "needs_background": "light"
     },
     "output_type": "display_data"
    }
   ],
   "source": [
    "plt.scatter(y_predAway, y_predHome)"
   ]
  },
  {
   "cell_type": "code",
   "execution_count": 22,
   "metadata": {},
   "outputs": [
    {
     "data": {
      "text/html": [
       "<div>\n",
       "<style scoped>\n",
       "    .dataframe tbody tr th:only-of-type {\n",
       "        vertical-align: middle;\n",
       "    }\n",
       "\n",
       "    .dataframe tbody tr th {\n",
       "        vertical-align: top;\n",
       "    }\n",
       "\n",
       "    .dataframe thead th {\n",
       "        text-align: right;\n",
       "    }\n",
       "</style>\n",
       "<table border=\"1\" class=\"dataframe\">\n",
       "  <thead>\n",
       "    <tr style=\"text-align: right;\">\n",
       "      <th></th>\n",
       "      <th>0</th>\n",
       "      <th>1</th>\n",
       "      <th>2</th>\n",
       "      <th>3</th>\n",
       "      <th>4</th>\n",
       "      <th>5</th>\n",
       "      <th>6</th>\n",
       "      <th>7</th>\n",
       "      <th>8</th>\n",
       "      <th>9</th>\n",
       "      <th>...</th>\n",
       "      <th>23</th>\n",
       "      <th>24</th>\n",
       "      <th>25</th>\n",
       "      <th>26</th>\n",
       "      <th>27</th>\n",
       "      <th>28</th>\n",
       "      <th>29</th>\n",
       "      <th>30</th>\n",
       "      <th>homeTeamPrice</th>\n",
       "      <th>awayTeamPrice</th>\n",
       "    </tr>\n",
       "  </thead>\n",
       "  <tbody>\n",
       "    <tr>\n",
       "      <th>count</th>\n",
       "      <td>34845.000000</td>\n",
       "      <td>34845.000000</td>\n",
       "      <td>34845.000000</td>\n",
       "      <td>34845.000000</td>\n",
       "      <td>34845.000000</td>\n",
       "      <td>34845.000000</td>\n",
       "      <td>34845.000000</td>\n",
       "      <td>34845.000000</td>\n",
       "      <td>34845.000000</td>\n",
       "      <td>34845.000000</td>\n",
       "      <td>...</td>\n",
       "      <td>34845.0</td>\n",
       "      <td>34845.0</td>\n",
       "      <td>34845.0</td>\n",
       "      <td>34845.000000</td>\n",
       "      <td>34845.000000</td>\n",
       "      <td>34845.000000</td>\n",
       "      <td>34845.000000</td>\n",
       "      <td>34845.0</td>\n",
       "      <td>34845.000000</td>\n",
       "      <td>34845.000000</td>\n",
       "    </tr>\n",
       "    <tr>\n",
       "      <th>mean</th>\n",
       "      <td>0.497761</td>\n",
       "      <td>0.502996</td>\n",
       "      <td>0.360319</td>\n",
       "      <td>0.380039</td>\n",
       "      <td>0.492218</td>\n",
       "      <td>0.461319</td>\n",
       "      <td>0.497628</td>\n",
       "      <td>0.504717</td>\n",
       "      <td>0.511938</td>\n",
       "      <td>0.360973</td>\n",
       "      <td>...</td>\n",
       "      <td>0.0</td>\n",
       "      <td>0.0</td>\n",
       "      <td>0.0</td>\n",
       "      <td>0.177873</td>\n",
       "      <td>0.154341</td>\n",
       "      <td>0.159621</td>\n",
       "      <td>0.155230</td>\n",
       "      <td>0.0</td>\n",
       "      <td>-45.810963</td>\n",
       "      <td>-21.848587</td>\n",
       "    </tr>\n",
       "    <tr>\n",
       "      <th>std</th>\n",
       "      <td>0.147111</td>\n",
       "      <td>0.153742</td>\n",
       "      <td>0.203972</td>\n",
       "      <td>0.202273</td>\n",
       "      <td>0.150875</td>\n",
       "      <td>0.162201</td>\n",
       "      <td>0.153810</td>\n",
       "      <td>0.151500</td>\n",
       "      <td>0.165202</td>\n",
       "      <td>0.206430</td>\n",
       "      <td>...</td>\n",
       "      <td>0.0</td>\n",
       "      <td>0.0</td>\n",
       "      <td>0.0</td>\n",
       "      <td>0.382412</td>\n",
       "      <td>0.361280</td>\n",
       "      <td>0.366260</td>\n",
       "      <td>0.362129</td>\n",
       "      <td>0.0</td>\n",
       "      <td>367.499315</td>\n",
       "      <td>357.936821</td>\n",
       "    </tr>\n",
       "    <tr>\n",
       "      <th>min</th>\n",
       "      <td>0.000000</td>\n",
       "      <td>0.000000</td>\n",
       "      <td>0.000000</td>\n",
       "      <td>0.000000</td>\n",
       "      <td>0.000000</td>\n",
       "      <td>0.000000</td>\n",
       "      <td>0.000000</td>\n",
       "      <td>0.000000</td>\n",
       "      <td>0.000000</td>\n",
       "      <td>0.000000</td>\n",
       "      <td>...</td>\n",
       "      <td>0.0</td>\n",
       "      <td>0.0</td>\n",
       "      <td>0.0</td>\n",
       "      <td>0.000000</td>\n",
       "      <td>0.000000</td>\n",
       "      <td>0.000000</td>\n",
       "      <td>0.000000</td>\n",
       "      <td>0.0</td>\n",
       "      <td>-1650.000000</td>\n",
       "      <td>-1600.000000</td>\n",
       "    </tr>\n",
       "    <tr>\n",
       "      <th>25%</th>\n",
       "      <td>0.401797</td>\n",
       "      <td>0.402320</td>\n",
       "      <td>0.198356</td>\n",
       "      <td>0.220947</td>\n",
       "      <td>0.392246</td>\n",
       "      <td>0.347970</td>\n",
       "      <td>0.391439</td>\n",
       "      <td>0.401813</td>\n",
       "      <td>0.397442</td>\n",
       "      <td>0.198612</td>\n",
       "      <td>...</td>\n",
       "      <td>0.0</td>\n",
       "      <td>0.0</td>\n",
       "      <td>0.0</td>\n",
       "      <td>0.000000</td>\n",
       "      <td>0.000000</td>\n",
       "      <td>0.000000</td>\n",
       "      <td>0.000000</td>\n",
       "      <td>0.0</td>\n",
       "      <td>-230.000000</td>\n",
       "      <td>-220.000000</td>\n",
       "    </tr>\n",
       "    <tr>\n",
       "      <th>50%</th>\n",
       "      <td>0.497392</td>\n",
       "      <td>0.503807</td>\n",
       "      <td>0.329482</td>\n",
       "      <td>0.358030</td>\n",
       "      <td>0.492066</td>\n",
       "      <td>0.453935</td>\n",
       "      <td>0.494653</td>\n",
       "      <td>0.502895</td>\n",
       "      <td>0.513173</td>\n",
       "      <td>0.327351</td>\n",
       "      <td>...</td>\n",
       "      <td>0.0</td>\n",
       "      <td>0.0</td>\n",
       "      <td>0.0</td>\n",
       "      <td>0.000000</td>\n",
       "      <td>0.000000</td>\n",
       "      <td>0.000000</td>\n",
       "      <td>0.000000</td>\n",
       "      <td>0.0</td>\n",
       "      <td>-109.000000</td>\n",
       "      <td>-105.000000</td>\n",
       "    </tr>\n",
       "    <tr>\n",
       "      <th>75%</th>\n",
       "      <td>0.595246</td>\n",
       "      <td>0.604318</td>\n",
       "      <td>0.498191</td>\n",
       "      <td>0.513305</td>\n",
       "      <td>0.591948</td>\n",
       "      <td>0.572479</td>\n",
       "      <td>0.594966</td>\n",
       "      <td>0.618230</td>\n",
       "      <td>0.631720</td>\n",
       "      <td>0.498703</td>\n",
       "      <td>...</td>\n",
       "      <td>0.0</td>\n",
       "      <td>0.0</td>\n",
       "      <td>0.0</td>\n",
       "      <td>0.000000</td>\n",
       "      <td>0.000000</td>\n",
       "      <td>0.000000</td>\n",
       "      <td>0.000000</td>\n",
       "      <td>0.0</td>\n",
       "      <td>190.000000</td>\n",
       "      <td>195.000000</td>\n",
       "    </tr>\n",
       "    <tr>\n",
       "      <th>max</th>\n",
       "      <td>0.997293</td>\n",
       "      <td>1.000000</td>\n",
       "      <td>0.984839</td>\n",
       "      <td>1.000000</td>\n",
       "      <td>1.000000</td>\n",
       "      <td>1.000000</td>\n",
       "      <td>1.000000</td>\n",
       "      <td>1.000000</td>\n",
       "      <td>1.000000</td>\n",
       "      <td>1.000000</td>\n",
       "      <td>...</td>\n",
       "      <td>0.0</td>\n",
       "      <td>0.0</td>\n",
       "      <td>0.0</td>\n",
       "      <td>1.000000</td>\n",
       "      <td>1.000000</td>\n",
       "      <td>1.000000</td>\n",
       "      <td>1.000000</td>\n",
       "      <td>0.0</td>\n",
       "      <td>1275.000000</td>\n",
       "      <td>1300.000000</td>\n",
       "    </tr>\n",
       "  </tbody>\n",
       "</table>\n",
       "<p>8 rows × 33 columns</p>\n",
       "</div>"
      ],
      "text/plain": [
       "                  0             1             2             3             4  \\\n",
       "count  34845.000000  34845.000000  34845.000000  34845.000000  34845.000000   \n",
       "mean       0.497761      0.502996      0.360319      0.380039      0.492218   \n",
       "std        0.147111      0.153742      0.203972      0.202273      0.150875   \n",
       "min        0.000000      0.000000      0.000000      0.000000      0.000000   \n",
       "25%        0.401797      0.402320      0.198356      0.220947      0.392246   \n",
       "50%        0.497392      0.503807      0.329482      0.358030      0.492066   \n",
       "75%        0.595246      0.604318      0.498191      0.513305      0.591948   \n",
       "max        0.997293      1.000000      0.984839      1.000000      1.000000   \n",
       "\n",
       "                  5             6             7             8             9  \\\n",
       "count  34845.000000  34845.000000  34845.000000  34845.000000  34845.000000   \n",
       "mean       0.461319      0.497628      0.504717      0.511938      0.360973   \n",
       "std        0.162201      0.153810      0.151500      0.165202      0.206430   \n",
       "min        0.000000      0.000000      0.000000      0.000000      0.000000   \n",
       "25%        0.347970      0.391439      0.401813      0.397442      0.198612   \n",
       "50%        0.453935      0.494653      0.502895      0.513173      0.327351   \n",
       "75%        0.572479      0.594966      0.618230      0.631720      0.498703   \n",
       "max        1.000000      1.000000      1.000000      1.000000      1.000000   \n",
       "\n",
       "       ...       23       24       25            26            27  \\\n",
       "count  ...  34845.0  34845.0  34845.0  34845.000000  34845.000000   \n",
       "mean   ...      0.0      0.0      0.0      0.177873      0.154341   \n",
       "std    ...      0.0      0.0      0.0      0.382412      0.361280   \n",
       "min    ...      0.0      0.0      0.0      0.000000      0.000000   \n",
       "25%    ...      0.0      0.0      0.0      0.000000      0.000000   \n",
       "50%    ...      0.0      0.0      0.0      0.000000      0.000000   \n",
       "75%    ...      0.0      0.0      0.0      0.000000      0.000000   \n",
       "max    ...      0.0      0.0      0.0      1.000000      1.000000   \n",
       "\n",
       "                 28            29       30  homeTeamPrice  awayTeamPrice  \n",
       "count  34845.000000  34845.000000  34845.0   34845.000000   34845.000000  \n",
       "mean       0.159621      0.155230      0.0     -45.810963     -21.848587  \n",
       "std        0.366260      0.362129      0.0     367.499315     357.936821  \n",
       "min        0.000000      0.000000      0.0   -1650.000000   -1600.000000  \n",
       "25%        0.000000      0.000000      0.0    -230.000000    -220.000000  \n",
       "50%        0.000000      0.000000      0.0    -109.000000    -105.000000  \n",
       "75%        0.000000      0.000000      0.0     190.000000     195.000000  \n",
       "max        1.000000      1.000000      0.0    1275.000000    1300.000000  \n",
       "\n",
       "[8 rows x 33 columns]"
      ]
     },
     "execution_count": 22,
     "metadata": {},
     "output_type": "execute_result"
    }
   ],
   "source": [
    "df.describe()"
   ]
  }
 ],
 "metadata": {
  "kernelspec": {
   "display_name": "Python 3",
   "language": "python",
   "name": "python3"
  },
  "language_info": {
   "codemirror_mode": {
    "name": "ipython",
    "version": 3
   },
   "file_extension": ".py",
   "mimetype": "text/x-python",
   "name": "python",
   "nbconvert_exporter": "python",
   "pygments_lexer": "ipython3",
   "version": "3.7.3"
  }
 },
 "nbformat": 4,
 "nbformat_minor": 2
}
